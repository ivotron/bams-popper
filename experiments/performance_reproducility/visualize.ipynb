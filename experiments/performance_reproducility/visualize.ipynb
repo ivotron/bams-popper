{
 "cells": [
  {
   "cell_type": "code",
   "execution_count": 19,
   "metadata": {
    "collapsed": false
   },
   "outputs": [],
   "source": [
    "import pandas as pd\n",
    "%matplotlib inline\n",
    "import matplotlib.pyplot as plt\n",
    "from pandas.tools.plotting import table"
   ]
  },
  {
   "cell_type": "code",
   "execution_count": 13,
   "metadata": {
    "collapsed": false
   },
   "outputs": [],
   "source": [
    "df = pd.read_csv('results', delimiter=',')\n"
   ]
  },
  {
   "cell_type": "code",
   "execution_count": 14,
   "metadata": {
    "collapsed": false
   },
   "outputs": [
    {
     "data": {
      "text/html": [
       "<div>\n",
       "<table border=\"1\" class=\"dataframe\">\n",
       "  <thead>\n",
       "    <tr style=\"text-align: right;\">\n",
       "      <th></th>\n",
       "      <th>host</th>\n",
       "      <th>threads</th>\n",
       "      <th>time</th>\n",
       "      <th>limits</th>\n",
       "    </tr>\n",
       "  </thead>\n",
       "  <tbody>\n",
       "    <tr>\n",
       "      <th>0</th>\n",
       "      <td>issdm-6</td>\n",
       "      <td>1</td>\n",
       "      <td>0:20:51.697012</td>\n",
       "      <td>no_limits</td>\n",
       "    </tr>\n",
       "    <tr>\n",
       "      <th>1</th>\n",
       "      <td>packet0</td>\n",
       "      <td>1</td>\n",
       "      <td>0:19:33.848259</td>\n",
       "      <td>no_limits</td>\n",
       "    </tr>\n",
       "    <tr>\n",
       "      <th>2</th>\n",
       "      <td>packet0</td>\n",
       "      <td>1</td>\n",
       "      <td>0:21:05.819255</td>\n",
       "      <td>with_limits</td>\n",
       "    </tr>\n",
       "    <tr>\n",
       "      <th>3</th>\n",
       "      <td>nibbler</td>\n",
       "      <td>1</td>\n",
       "      <td>0:09:31.163721</td>\n",
       "      <td>no_limits</td>\n",
       "    </tr>\n",
       "    <tr>\n",
       "      <th>4</th>\n",
       "      <td>nibbler</td>\n",
       "      <td>1</td>\n",
       "      <td>0:23:45.671584</td>\n",
       "      <td>with_limits</td>\n",
       "    </tr>\n",
       "    <tr>\n",
       "      <th>5</th>\n",
       "      <td>dwill</td>\n",
       "      <td>1</td>\n",
       "      <td>0:07:22.803647</td>\n",
       "      <td>no_limits</td>\n",
       "    </tr>\n",
       "    <tr>\n",
       "      <th>6</th>\n",
       "      <td>dwill</td>\n",
       "      <td>1</td>\n",
       "      <td>0:20:44.367972</td>\n",
       "      <td>with_limits</td>\n",
       "    </tr>\n",
       "    <tr>\n",
       "      <th>7</th>\n",
       "      <td>rackform4</td>\n",
       "      <td>1</td>\n",
       "      <td>0:11:29.738835</td>\n",
       "      <td>no_limits</td>\n",
       "    </tr>\n",
       "    <tr>\n",
       "      <th>8</th>\n",
       "      <td>rackform4</td>\n",
       "      <td>1</td>\n",
       "      <td>0:26:00.987534</td>\n",
       "      <td>with_limits</td>\n",
       "    </tr>\n",
       "    <tr>\n",
       "      <th>9</th>\n",
       "      <td>pl2</td>\n",
       "      <td>1</td>\n",
       "      <td>0:07:05.031332</td>\n",
       "      <td>no_limits</td>\n",
       "    </tr>\n",
       "    <tr>\n",
       "      <th>10</th>\n",
       "      <td>pl2</td>\n",
       "      <td>1</td>\n",
       "      <td>0:23:51.383836</td>\n",
       "      <td>with_limits</td>\n",
       "    </tr>\n",
       "    <tr>\n",
       "      <th>11</th>\n",
       "      <td>node</td>\n",
       "      <td>1</td>\n",
       "      <td>0:06:36.553413</td>\n",
       "      <td>no_limits</td>\n",
       "    </tr>\n",
       "    <tr>\n",
       "      <th>12</th>\n",
       "      <td>node</td>\n",
       "      <td>1</td>\n",
       "      <td>0:26:04.413064</td>\n",
       "      <td>with_limits</td>\n",
       "    </tr>\n",
       "  </tbody>\n",
       "</table>\n",
       "</div>"
      ],
      "text/plain": [
       "         host  threads            time       limits\n",
       "0     issdm-6        1  0:20:51.697012    no_limits\n",
       "1     packet0        1  0:19:33.848259    no_limits\n",
       "2     packet0        1  0:21:05.819255  with_limits\n",
       "3     nibbler        1  0:09:31.163721    no_limits\n",
       "4     nibbler        1  0:23:45.671584  with_limits\n",
       "5       dwill        1  0:07:22.803647    no_limits\n",
       "6       dwill        1  0:20:44.367972  with_limits\n",
       "7   rackform4        1  0:11:29.738835    no_limits\n",
       "8   rackform4        1  0:26:00.987534  with_limits\n",
       "9         pl2        1  0:07:05.031332    no_limits\n",
       "10        pl2        1  0:23:51.383836  with_limits\n",
       "11       node        1  0:06:36.553413    no_limits\n",
       "12       node        1  0:26:04.413064  with_limits"
      ]
     },
     "execution_count": 14,
     "metadata": {},
     "output_type": "execute_result"
    }
   ],
   "source": [
    "df"
   ]
  },
  {
   "cell_type": "code",
   "execution_count": null,
   "metadata": {
    "collapsed": true
   },
   "outputs": [],
   "source": [
    "# drop threads column\n",
    "df = df.drop('threads', 1)"
   ]
  },
  {
   "cell_type": "code",
   "execution_count": 15,
   "metadata": {
    "collapsed": true
   },
   "outputs": [],
   "source": [
    "# convert from %H:%M:%S strings to num. seconds\n",
    "df['time'] = df['time'].apply(lambda x: (int(x.split(':')[0]) * 360) + (int(x.split(':')[1]) * 60) + float(x.split(':')[2]) )"
   ]
  },
  {
   "cell_type": "code",
   "execution_count": 16,
   "metadata": {
    "collapsed": false
   },
   "outputs": [
    {
     "data": {
      "text/html": [
       "<div>\n",
       "<table border=\"1\" class=\"dataframe\">\n",
       "  <thead>\n",
       "    <tr style=\"text-align: right;\">\n",
       "      <th></th>\n",
       "      <th>host</th>\n",
       "      <th>threads</th>\n",
       "      <th>time</th>\n",
       "      <th>limits</th>\n",
       "    </tr>\n",
       "  </thead>\n",
       "  <tbody>\n",
       "    <tr>\n",
       "      <th>0</th>\n",
       "      <td>issdm-6</td>\n",
       "      <td>1</td>\n",
       "      <td>1251.697012</td>\n",
       "      <td>no_limits</td>\n",
       "    </tr>\n",
       "    <tr>\n",
       "      <th>1</th>\n",
       "      <td>packet0</td>\n",
       "      <td>1</td>\n",
       "      <td>1173.848259</td>\n",
       "      <td>no_limits</td>\n",
       "    </tr>\n",
       "    <tr>\n",
       "      <th>2</th>\n",
       "      <td>packet0</td>\n",
       "      <td>1</td>\n",
       "      <td>1265.819255</td>\n",
       "      <td>with_limits</td>\n",
       "    </tr>\n",
       "    <tr>\n",
       "      <th>3</th>\n",
       "      <td>nibbler</td>\n",
       "      <td>1</td>\n",
       "      <td>571.163721</td>\n",
       "      <td>no_limits</td>\n",
       "    </tr>\n",
       "    <tr>\n",
       "      <th>4</th>\n",
       "      <td>nibbler</td>\n",
       "      <td>1</td>\n",
       "      <td>1425.671584</td>\n",
       "      <td>with_limits</td>\n",
       "    </tr>\n",
       "    <tr>\n",
       "      <th>5</th>\n",
       "      <td>dwill</td>\n",
       "      <td>1</td>\n",
       "      <td>442.803647</td>\n",
       "      <td>no_limits</td>\n",
       "    </tr>\n",
       "    <tr>\n",
       "      <th>6</th>\n",
       "      <td>dwill</td>\n",
       "      <td>1</td>\n",
       "      <td>1244.367972</td>\n",
       "      <td>with_limits</td>\n",
       "    </tr>\n",
       "    <tr>\n",
       "      <th>7</th>\n",
       "      <td>rackform4</td>\n",
       "      <td>1</td>\n",
       "      <td>689.738835</td>\n",
       "      <td>no_limits</td>\n",
       "    </tr>\n",
       "    <tr>\n",
       "      <th>8</th>\n",
       "      <td>rackform4</td>\n",
       "      <td>1</td>\n",
       "      <td>1560.987534</td>\n",
       "      <td>with_limits</td>\n",
       "    </tr>\n",
       "    <tr>\n",
       "      <th>9</th>\n",
       "      <td>pl2</td>\n",
       "      <td>1</td>\n",
       "      <td>425.031332</td>\n",
       "      <td>no_limits</td>\n",
       "    </tr>\n",
       "    <tr>\n",
       "      <th>10</th>\n",
       "      <td>pl2</td>\n",
       "      <td>1</td>\n",
       "      <td>1431.383836</td>\n",
       "      <td>with_limits</td>\n",
       "    </tr>\n",
       "    <tr>\n",
       "      <th>11</th>\n",
       "      <td>node</td>\n",
       "      <td>1</td>\n",
       "      <td>396.553413</td>\n",
       "      <td>no_limits</td>\n",
       "    </tr>\n",
       "    <tr>\n",
       "      <th>12</th>\n",
       "      <td>node</td>\n",
       "      <td>1</td>\n",
       "      <td>1564.413064</td>\n",
       "      <td>with_limits</td>\n",
       "    </tr>\n",
       "  </tbody>\n",
       "</table>\n",
       "</div>"
      ],
      "text/plain": [
       "         host  threads         time       limits\n",
       "0     issdm-6        1  1251.697012    no_limits\n",
       "1     packet0        1  1173.848259    no_limits\n",
       "2     packet0        1  1265.819255  with_limits\n",
       "3     nibbler        1   571.163721    no_limits\n",
       "4     nibbler        1  1425.671584  with_limits\n",
       "5       dwill        1   442.803647    no_limits\n",
       "6       dwill        1  1244.367972  with_limits\n",
       "7   rackform4        1   689.738835    no_limits\n",
       "8   rackform4        1  1560.987534  with_limits\n",
       "9         pl2        1   425.031332    no_limits\n",
       "10        pl2        1  1431.383836  with_limits\n",
       "11       node        1   396.553413    no_limits\n",
       "12       node        1  1564.413064  with_limits"
      ]
     },
     "execution_count": 16,
     "metadata": {},
     "output_type": "execute_result"
    }
   ],
   "source": [
    "df"
   ]
  },
  {
   "cell_type": "code",
   "execution_count": 87,
   "metadata": {
    "collapsed": false
   },
   "outputs": [],
   "source": [
    "df['normalized'] = df.apply(lambda row: row['time'] / (df[df['host'] == 'issdm-6']['time']), axis=1)"
   ]
  },
  {
   "cell_type": "code",
   "execution_count": 88,
   "metadata": {
    "collapsed": false
   },
   "outputs": [],
   "source": [
    "latex = df.to_latex(index=False)\n",
    "latex = (r\"{}\".format(latex))\n",
    "with open(\"perf_reproducibility_table.tex\", \"w\") as text_file:\n",
    "    text_file.write(\"{}\".format(latex))\n"
   ]
  }
 ],
 "metadata": {
  "kernelspec": {
   "display_name": "Python 3",
   "language": "python",
   "name": "python3"
  },
  "language_info": {
   "codemirror_mode": {
    "name": "ipython",
    "version": 3
   },
   "file_extension": ".py",
   "mimetype": "text/x-python",
   "name": "python",
   "nbconvert_exporter": "python",
   "pygments_lexer": "ipython3",
   "version": "3.5.1"
  }
 },
 "nbformat": 4,
 "nbformat_minor": 0
}
